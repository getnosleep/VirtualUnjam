{
 "cells": [
  {
   "cell_type": "markdown",
   "id": "white-wesley",
   "metadata": {},
   "source": [
    "# Implementation of an bully algorithm without the Django framework\n",
    "### This is a test, to know how it's build without the extra layers -> object based Python classes"
   ]
  },
  {
   "cell_type": "code",
   "execution_count": 1,
   "id": "worse-agriculture",
   "metadata": {},
   "outputs": [],
   "source": [
    "import random"
   ]
  },
  {
   "cell_type": "code",
   "execution_count": 2,
   "id": "detected-therapist",
   "metadata": {},
   "outputs": [],
   "source": [
    "OWN_TRUCK_ID = 4\n",
    "BROKEN_TRUCK_ID = 2\n",
    "AMOUNT_OF_TRUCKS = 10"
   ]
  },
  {
   "cell_type": "code",
   "execution_count": 15,
   "id": "thousand-inside",
   "metadata": {},
   "outputs": [],
   "source": [
    "class Truck(object):\n",
    "    def __init__(self, truckId: int, convoyPosition: int, convoyLeaderId: int, speed: float, broke: bool, convoy):\n",
    "        self.truckId = truckId\n",
    "        self.convoyPosition = convoyPosition\n",
    "        self.convoyLeaderId = convoyLeaderId\n",
    "        self.speed = speed\n",
    "        self.broke = broke\n",
    "        self.convoy = convoy\n",
    "    \n",
    "    def alive(self):\n",
    "        return not self.broke\n",
    "    \n",
    "    def toggleBroke(self):\n",
    "        self.broke = not self.broke\n",
    "    \n",
    "    def getTruckId(self):\n",
    "        return self.truckId\n",
    "    \n",
    "    def setConvoyPosition(self, convoyPosition):\n",
    "        self.convoyPosition = convoyPosition\n",
    "        \n",
    "    def getConvoyPosition(self):\n",
    "        return self.convoyPosition\n",
    "    \n",
    "    def setConvoyLeaderId(self, convoyLeaderId):\n",
    "        self.convoyLeaderId = convoyLeaderId\n",
    "        \n",
    "    def getConvoyLeaderId(self):\n",
    "        return self.convoyLeaderId\n",
    "    \n",
    "    def setSpeed(self, speed):\n",
    "        self.speed = speed\n",
    "        \n",
    "    def getSpeed(self):\n",
    "        return self.speed\n",
    "    \n",
    "    def startPoll(self):\n",
    "        #answer = {'pos': ('alive', 'truckId')}\n",
    "        oldConvoyPosition = self.convoyPosition\n",
    "        \n",
    "        trucks = self.convoy.getTrucks()\n",
    "        trucksAlive = {}\n",
    "        for convoyPosition, truck in trucks.items():\n",
    "            if convoyPosition <= self.convoyPosition:\n",
    "                trucksAlive[convoyPosition] = (truck.alive(), truck.getTruckId())\n",
    "        newConvoyPosition = self.__bully__(trucksAlive)\n",
    "        self.convoyPosition = newConvoyPosition\n",
    "        return oldConvoyPosition - newConvoyPosition\n",
    "    \n",
    "    def __bully__(self, trucksAlive):\n",
    "        newPositions = []\n",
    "        for position, (alive, truckId) in trucksAlive.items():\n",
    "            if alive:\n",
    "                newPositions.append(truckId)\n",
    "        return newPositions.index(self.truckId)\n",
    "        #self.truckId = newPositions.index(self.truckId)"
   ]
  },
  {
   "cell_type": "code",
   "execution_count": 16,
   "id": "pacific-diabetes",
   "metadata": {},
   "outputs": [],
   "source": [
    "class Convoy(object):\n",
    "    def __init__(self, amountOfTrucks: int):\n",
    "        self.truckIds = []\n",
    "        self.trucks = {}\n",
    "        self.__createTrucks__(amountOfTrucks)\n",
    "    \n",
    "    def __createTrucks__(self, amountOfTrucks: int):\n",
    "        convoyLeaderId = 0\n",
    "        speed = 35.0\n",
    "        broke = False\n",
    "        for convoyPosition in range(amountOfTrucks):\n",
    "            truckId = self.__randomTruckId__()\n",
    "            newTruck = Truck(truckId, convoyPosition, convoyLeaderId, speed, broke, self)\n",
    "            self.trucks[convoyPosition] = newTruck\n",
    "    \n",
    "    def __randomTruckId__(self):\n",
    "        success = False\n",
    "        while not success:\n",
    "            newId = random.randint(1, 1000)\n",
    "            if not newId in self.truckIds:\n",
    "                return newId\n",
    "    \n",
    "    def getTruckAt(self, convoyPosition: int): # Das ist dann nachher die Netzwerkadresse des Trucks\n",
    "        return self.trucks[convoyPosition]\n",
    "    \n",
    "    def getTrucks(self):\n",
    "        return self.trucks\n",
    "    \n",
    "    def de_activateRandomTruck(self):\n",
    "        amount = self.getAmountOfTrucks()\n",
    "        rand = random.randint(0, amount-1)\n",
    "        self.trucks[rand].toggleBroke()\n",
    "    \n",
    "    def getAmountOfTrucks(self):\n",
    "        return len(self.trucks)\n",
    "    \n",
    "    def geta(self):\n",
    "        return self.trucks[9].startPoll()"
   ]
  },
  {
   "cell_type": "code",
   "execution_count": 17,
   "id": "charged-reproduction",
   "metadata": {},
   "outputs": [],
   "source": [
    "convoy = Convoy(AMOUNT_OF_TRUCKS)"
   ]
  },
  {
   "cell_type": "code",
   "execution_count": 18,
   "id": "other-january",
   "metadata": {},
   "outputs": [
    {
     "name": "stdout",
     "output_type": "stream",
     "text": [
      "Nummer: 0\n",
      "Truck: 575\n",
      "\n",
      "\n",
      "Nummer: 1\n",
      "Truck: 577\n",
      "\n",
      "\n",
      "Nummer: 2\n",
      "Truck: 210\n",
      "\n",
      "\n",
      "Nummer: 3\n",
      "Truck: 680\n",
      "\n",
      "\n",
      "Nummer: 4\n",
      "Truck: 7\n",
      "\n",
      "\n",
      "Nummer: 5\n",
      "Truck: 649\n",
      "\n",
      "\n",
      "Nummer: 6\n",
      "Truck: 314\n",
      "\n",
      "\n",
      "Nummer: 7\n",
      "Truck: 767\n",
      "\n",
      "\n",
      "Nummer: 8\n",
      "Truck: 969\n",
      "\n",
      "\n",
      "Nummer: 9\n",
      "Truck: 990\n",
      "\n",
      "\n"
     ]
    }
   ],
   "source": [
    "trucks = convoy.getTrucks()\n",
    "\n",
    "for key, val in trucks.items():\n",
    "    print(f'Nummer: {key}\\nTruck: {val.getTruckId()}\\n\\n')"
   ]
  },
  {
   "cell_type": "code",
   "execution_count": 19,
   "id": "representative-haven",
   "metadata": {},
   "outputs": [
    {
     "name": "stdout",
     "output_type": "stream",
     "text": [
      "3\n"
     ]
    }
   ],
   "source": [
    "convoy.de_activateRandomTruck()\n",
    "convoy.de_activateRandomTruck()\n",
    "convoy.de_activateRandomTruck()\n",
    "\n",
    "a = convoy.geta()\n",
    "print(a)"
   ]
  },
  {
   "cell_type": "code",
   "execution_count": 21,
   "id": "ranking-council",
   "metadata": {},
   "outputs": [
    {
     "name": "stdout",
     "output_type": "stream",
     "text": [
      "Nummer: 0\n",
      "TruckPosition: 0\n",
      "Truck: 575\n",
      "Alive: False\n",
      "\n",
      "\n",
      "Nummer: 1\n",
      "TruckPosition: 1\n",
      "Truck: 577\n",
      "Alive: False\n",
      "\n",
      "\n",
      "Nummer: 2\n",
      "TruckPosition: 2\n",
      "Truck: 210\n",
      "Alive: True\n",
      "\n",
      "\n",
      "Nummer: 3\n",
      "TruckPosition: 3\n",
      "Truck: 680\n",
      "Alive: False\n",
      "\n",
      "\n",
      "Nummer: 4\n",
      "TruckPosition: 4\n",
      "Truck: 7\n",
      "Alive: True\n",
      "\n",
      "\n",
      "Nummer: 5\n",
      "TruckPosition: 5\n",
      "Truck: 649\n",
      "Alive: True\n",
      "\n",
      "\n",
      "Nummer: 6\n",
      "TruckPosition: 6\n",
      "Truck: 314\n",
      "Alive: True\n",
      "\n",
      "\n",
      "Nummer: 7\n",
      "TruckPosition: 7\n",
      "Truck: 767\n",
      "Alive: True\n",
      "\n",
      "\n",
      "Nummer: 8\n",
      "TruckPosition: 8\n",
      "Truck: 969\n",
      "Alive: True\n",
      "\n",
      "\n",
      "Nummer: 9\n",
      "TruckPosition: 6\n",
      "Truck: 990\n",
      "Alive: True\n",
      "\n",
      "\n"
     ]
    }
   ],
   "source": [
    "trucks = convoy.getTrucks()\n",
    "\n",
    "for key, val in trucks.items():\n",
    "    print(f'Nummer: {key}\\nTruckPosition: {val.getConvoyPosition()}\\nTruck: {val.getTruckId()}\\nAlive: {val.alive()}\\n\\n')"
   ]
  },
  {
   "cell_type": "code",
   "execution_count": null,
   "id": "lesser-modern",
   "metadata": {},
   "outputs": [],
   "source": []
  },
  {
   "cell_type": "code",
   "execution_count": 14,
   "id": "chemical-retrieval",
   "metadata": {},
   "outputs": [],
   "source": [
    "# rekursives arbeiten mit dem poll, d.h. die poll wird von unten nach oben angestossen und dann rekursiv ueber\n",
    "# die element ids ausgefuehrt, nachdem die rueckmeldung gegeben wurde"
   ]
  },
  {
   "cell_type": "markdown",
   "id": "architectural-wesley",
   "metadata": {},
   "source": [
    "# NOTES\n",
    "\n",
    "- TruckID wird durch Convoy Microservice zugewiesen\n",
    "- Convoy Microservice muss eine Liste des Convoys haben\n",
    "- Indizes der Liste sind die ConvoyPosition\n",
    "- Reihenfolge der TruckIds in der Convoy Liste ist scheifegal"
   ]
  }
 ],
 "metadata": {
  "kernelspec": {
   "display_name": "Python 3",
   "language": "python",
   "name": "python3"
  },
  "language_info": {
   "codemirror_mode": {
    "name": "ipython",
    "version": 3
   },
   "file_extension": ".py",
   "mimetype": "text/x-python",
   "name": "python",
   "nbconvert_exporter": "python",
   "pygments_lexer": "ipython3",
   "version": "3.8.7"
  }
 },
 "nbformat": 4,
 "nbformat_minor": 5
}
