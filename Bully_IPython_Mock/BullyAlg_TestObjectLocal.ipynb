{
 "cells": [
  {
   "cell_type": "markdown",
   "id": "white-wesley",
   "metadata": {},
   "source": [
    "# Implementation of an bully algorithm without the Django framework\n",
    "### This is a test, to know how it's build without the extra layers -> object based Python classes"
   ]
  },
  {
   "cell_type": "code",
   "execution_count": 20,
   "id": "thousand-inside",
   "metadata": {},
   "outputs": [],
   "source": [
    "class truck(object):\n",
    "    def __init__(self, truckId: int, convoyPosition: int, convoyLeaderId: int, speed: float, broke: bool):\n",
    "        self.truckId = truckId\n",
    "        self.convoyPosition = convoyPosition\n",
    "        self.convoyLeaderId = convoyLeaderId\n",
    "        self.speed = speed\n",
    "        self.broke = broke\n",
    "    \n",
    "    def print_alive(self):\n",
    "        print(self.broke)\n",
    "    \n",
    "    def __get_truckId__(self):\n",
    "        return self.truckId\n",
    "    \n",
    "    def __set_convoyPosition__(self, convoyPosition):\n",
    "        self.convoyPosition = convoyPosition\n",
    "        \n",
    "    def __get_convoyPosition__(self):\n",
    "        return self.convoyPosition\n",
    "    \n",
    "    def __set_convoyLeaderId__(self, convoyLeaderId):\n",
    "        self.convoyLeaderId = convoyLeaderId\n",
    "        \n",
    "    def __get_convoyLeaderId__(self):\n",
    "        return self.convoyLeaderId\n",
    "    \n",
    "    def __set_speed__(self, speed):\n",
    "        self.speed = speed\n",
    "        \n",
    "    def __get_speed__(self):\n",
    "        return self.speed\n",
    "    \n",
    "    def __toggle_broke__(self):\n",
    "        self.broke = not self.broke\n",
    "    \n",
    "    def __get_broke__(self):\n",
    "        return self.broke\n",
    "    \n",
    "    def new_convoy_positioning(self):\n",
    "        pass"
   ]
  },
  {
   "cell_type": "code",
   "execution_count": 35,
   "id": "charged-reproduction",
   "metadata": {},
   "outputs": [],
   "source": [
    "def createTrucks(amount: int):\n",
    "    convoyLeaderId = 0\n",
    "    speed = 35.0\n",
    "    broke = False\n",
    "    trucks = {}\n",
    "    \n",
    "    for truckId_convoyPosition in range(amount):\n",
    "        sel_truck = truck(truckId_convoyPosition, truckId_convoyPosition, convoyLeaderId, speed, broke)\n",
    "        trucks[truckId_convoyPosition] = sel_truck\n",
    "    return trucks"
   ]
  },
  {
   "cell_type": "code",
   "execution_count": 38,
   "id": "other-january",
   "metadata": {},
   "outputs": [],
   "source": [
    "def de_activate(trucks, truckIdToDeactivate):\n",
    "    trucks[truckIdToDeactivate].__toggle_broke__()"
   ]
  },
  {
   "cell_type": "code",
   "execution_count": 37,
   "id": "lesser-modern",
   "metadata": {},
   "outputs": [
    {
     "name": "stdout",
     "output_type": "stream",
     "text": [
      "0\n",
      "1\n",
      "2\n",
      "3\n",
      "4\n"
     ]
    }
   ],
   "source": [
    "t = createTrucks(5)\n",
    "ts = bully(t, 3)"
   ]
  },
  {
   "cell_type": "code",
   "execution_count": 36,
   "id": "ranking-council",
   "metadata": {},
   "outputs": [],
   "source": [
    "def bully(trucks, pollRequestId: int):\n",
    "    for key in trucks:\n",
    "        print(key)\n",
    "# rekursives arbeiten mit dem poll, d.h. die poll wird von unten nach oben angestossen und dann rekursiv ueber\n",
    "# die element ids ausgefuehrt, nachdem die rueckmeldung gegeben wurde"
   ]
  },
  {
   "cell_type": "code",
   "execution_count": null,
   "id": "guilty-ticket",
   "metadata": {},
   "outputs": [],
   "source": []
  }
 ],
 "metadata": {
  "kernelspec": {
   "display_name": "Python 3",
   "language": "python",
   "name": "python3"
  },
  "language_info": {
   "codemirror_mode": {
    "name": "ipython",
    "version": 3
   },
   "file_extension": ".py",
   "mimetype": "text/x-python",
   "name": "python",
   "nbconvert_exporter": "python",
   "pygments_lexer": "ipython3",
   "version": "3.8.7"
  }
 },
 "nbformat": 4,
 "nbformat_minor": 5
}
