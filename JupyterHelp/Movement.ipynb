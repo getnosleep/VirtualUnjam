{
 "cells": [
  {
   "cell_type": "code",
   "execution_count": 5,
   "id": "supposed-annex",
   "metadata": {},
   "outputs": [],
   "source": [
    "import numpy as np\n",
    "from threading import Thread\n",
    "from time import sleep, time"
   ]
  },
  {
   "cell_type": "code",
   "execution_count": 6,
   "id": "ceramic-pharmacy",
   "metadata": {},
   "outputs": [],
   "source": [
    "A_POS = np.float64(1.028)\n",
    "A_NEG = np.float(-3.4)\n",
    "\n",
    "V_MIN = 0\n",
    "V_MAX = 80"
   ]
  },
  {
   "cell_type": "code",
   "execution_count": null,
   "id": "outstanding-ranch",
   "metadata": {},
   "outputs": [],
   "source": [
    "def currentTime():\n",
    "    return int(round(time() * 1000))\n",
    "\n",
    "class Move(Thread):\n",
    "    \"\"\"\n",
    "    aNeg = deceleration value (physical border)\n",
    "    aPos = acceleration vlaue (physical border)\n",
    "    vMin = minimal velocity (physical border)\n",
    "    vMax = maximal velocity (physical border)\n",
    "    broken = state of the truck -> sets aMax to aBroken\n",
    "    requestTime = the duration in ms to make an update\n",
    "    \"\"\"\n",
    "    def __init__(self, aNeg: float, aPos: float, aBroken = -0.125, vMin = 0, vMax = 80, broken = False, requestTime = 10:\n",
    "        Thread.__init__(self)\n",
    "        self.__alive__ = True\n",
    "        \n",
    "        #\n",
    "        self.aNeg = aNeg\n",
    "        self.aPos = aPos\n",
    "        self.aBroken = aBroken\n",
    "        self.vMin = vMin\n",
    "        self.vMax = vMax\n",
    "        self.broken = broken\n",
    "        self.requestTime = requestTime\n",
    "        \n",
    "        #State of the new initialized truck -> resting position before driving\n",
    "        self.totalDistance = 0\n",
    "        self.vIs = 0\n",
    "        self.vShall = 0\n",
    "        self.a = 0\n",
    "        #self.globalDelay = 0\n",
    "        self.accelerating = False\n",
    "        self.aNeg_max = aNeg\n",
    "        self.aPos_max = aPos\n",
    "    \n",
    "    def run(self):\n",
    "        self.__alive__ = True\n",
    "        while self.__alive__:\n",
    "            pass\n",
    "        \n",
    "    def stop(self):\n",
    "        self.__alive__ = False\n",
    "    \n",
    "    def requestAccelerationStats(self):\n",
    "        return {\n",
    "            'aNeg': self.aNeg,\n",
    "            'aPos': self.aPos,\n",
    "            'a': self.a\n",
    "        }\n",
    "    \n",
    "    def accelerate(self, a, vShall, tZero):\n",
    "        t = currentTime()\n",
    "        if tZero == 0 or tZero <= t:\n",
    "            self.accelerating = True\n",
    "            self.a = a\n",
    "            self.vShall = vShall\n",
    "    \n",
    "    def decelerate(self, a, vShall, tZero):\n",
    "        "
   ]
  },
  {
   "cell_type": "code",
   "execution_count": null,
   "id": "essential-vitamin",
   "metadata": {},
   "outputs": [],
   "source": []
  },
  {
   "cell_type": "code",
   "execution_count": null,
   "id": "median-edmonton",
   "metadata": {},
   "outputs": [],
   "source": []
  }
 ],
 "metadata": {
  "kernelspec": {
   "display_name": "Python 3",
   "language": "python",
   "name": "python3"
  },
  "language_info": {
   "codemirror_mode": {
    "name": "ipython",
    "version": 3
   },
   "file_extension": ".py",
   "mimetype": "text/x-python",
   "name": "python",
   "nbconvert_exporter": "python",
   "pygments_lexer": "ipython3",
   "version": "3.8.7"
  }
 },
 "nbformat": 4,
 "nbformat_minor": 5
}
