{
 "cells": [
  {
   "cell_type": "code",
   "execution_count": null,
   "id": "optical-candidate",
   "metadata": {},
   "outputs": [
    {
     "name": "stdout",
     "output_type": "stream",
     "text": [
      "Subscriber connected\n",
      "Incoming message\n",
      "1\n",
      "Incoming message\n",
      "2\n",
      "Incoming message\n",
      "3\n",
      "Incoming message\n",
      "4\n",
      "Incoming message\n",
      "5\n",
      "Incoming message\n",
      "6\n",
      "Incoming message\n",
      "7\n",
      "Incoming message\n",
      "8\n",
      "Incoming message\n",
      "9\n",
      "Incoming message\n",
      "10\n",
      "Incoming message\n",
      "11\n",
      "Incoming message\n",
      "12\n",
      "Incoming message\n",
      "13\n",
      "Incoming message\n",
      "14\n"
     ]
    }
   ],
   "source": [
    "from paho.mqtt.client import Client\n",
    "import time\n",
    "\n",
    "# Network Identification: MQTT Broker (self) -> fixed\n",
    "ID = 'heartbeatSubscriber'\n",
    "ADDRESS = '127.0.0.1'\n",
    "PORT = 1883\n",
    "USERNAME = 'testUser'\n",
    "PASSWORD = 'test'\n",
    "TOPIC = 'truckChannel'\n",
    "\n",
    "global connection\n",
    "connection = False\n",
    "global recieved\n",
    "recieved = False\n",
    "\n",
    "def on_connect(client, userdata, flags, rc):\n",
    "    if rc == 0:\n",
    "        print('Subscriber connected')\n",
    "        connection = True\n",
    "    else:\n",
    "        print('Subscriber waiting')\n",
    "        connection = False\n",
    "\n",
    "def on_message(client, userdata, message):\n",
    "    print('Incoming message')\n",
    "    recieved = True\n",
    "    payload = message.payload\n",
    "    int_val = int.from_bytes(payload, \"big\")\n",
    "    print(int_val)\n",
    "\n",
    "if __name__ == \"__main__\":\n",
    "    client = Client(ID)\n",
    "    client.on_message = on_message\n",
    "    client.username_pw_set(USERNAME, password=PASSWORD)\n",
    "    client.connect(ADDRESS, PORT)\n",
    "    client.on_connect = on_connect\n",
    "    client.subscribe(TOPIC)\n",
    "    client.loop_start()\n",
    "    \n",
    "    while not connection:\n",
    "        time.sleep(0.01)\n",
    "        \n",
    "    while not recieved:\n",
    "        time.sleep(0.01)\n",
    "    \n",
    "    print('Message recieved')\n",
    "    \n",
    "    client.loop_stop()\n",
    "    \n",
    "    print('Loop finished')"
   ]
  },
  {
   "cell_type": "code",
   "execution_count": null,
   "id": "mental-google",
   "metadata": {},
   "outputs": [],
   "source": []
  }
 ],
 "metadata": {
  "kernelspec": {
   "display_name": "Python 3",
   "language": "python",
   "name": "python3"
  },
  "language_info": {
   "codemirror_mode": {
    "name": "ipython",
    "version": 3
   },
   "file_extension": ".py",
   "mimetype": "text/x-python",
   "name": "python",
   "nbconvert_exporter": "python",
   "pygments_lexer": "ipython3",
   "version": "3.8.7"
  }
 },
 "nbformat": 4,
 "nbformat_minor": 5
}
