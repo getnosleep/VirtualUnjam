{
 "cells": [
  {
   "cell_type": "markdown",
   "id": "confirmed-island",
   "metadata": {},
   "source": [
    "# heartbeat.py"
   ]
  },
  {
   "cell_type": "code",
   "execution_count": 1,
   "id": "selected-private",
   "metadata": {},
   "outputs": [],
   "source": [
    "from paho.mqtt.client import Client\n",
    "from threading import Thread\n",
    "import time\n",
    "\n",
    "# Heartbeat settings: MQTT publisher definitions -> semi fixed\n",
    "PAYLOAD_LENGTH = 8       # [Bytes] => 64 bit\n",
    "BYTEORDER = 'big'        # Big-Endian\n",
    "CHANNEL = 'truckChannel' # Listener\n",
    "INTERVAL = 0.025         # delay (25ms) between publishes\n",
    "\n",
    "class Heartbeat(Thread):\n",
    "    def __init__(self, client: Client, initialCounterValue: int = 0):\n",
    "        Thread.__init__(self, daemon=True)\n",
    "        self.__running__ = False\n",
    "        self.__client__ = client\n",
    "        self.__count__ = initialCounterValue\n",
    "    \n",
    "    def getCount(self): return self.__count__\n",
    "    \n",
    "    def run(self):\n",
    "        self.__running__ = True\n",
    "        while self.__running__:\n",
    "            self.__heartbeat_routine__()\n",
    "            time.sleep(INTERVAL)\n",
    "            \n",
    "    def __heartbeat_routine__(self):\n",
    "        try:\n",
    "            self.__count__ += 1\n",
    "            payload = self.__count__.to_bytes(PAYLOAD_LENGTH, BYTEORDER)\n",
    "            self.__client__.publish(topic=CHANNEL, payload=payload)\n",
    "        except Exception as e:\n",
    "            print(e)\n",
    "            self.__running__ = False\n"
   ]
  },
  {
   "cell_type": "markdown",
   "id": "differential-david",
   "metadata": {},
   "source": [
    "# publisher.py"
   ]
  },
  {
   "cell_type": "code",
   "execution_count": null,
   "id": "eight-christmas",
   "metadata": {},
   "outputs": [
    {
     "name": "stdout",
     "output_type": "stream",
     "text": [
      "alive 1\n"
     ]
    }
   ],
   "source": [
    "# from paho.mqtt.client import Client\n",
    "# from .heartbeat.py import Heartbeat\n",
    "\n",
    "# Network Identification: MQTT Broker (self) -> fixed\n",
    "ID = 'heartbeatPublisher'\n",
    "ADDRESS = '127.0.0.1'\n",
    "PORT = 1883\n",
    "USERNAME = 'testUser'\n",
    "PASSWORD = 'test'\n",
    "\n",
    "def initialize():\n",
    "    client = Client(client_id=ID, clean_session=False)\n",
    "    client.username_pw_set(USERNAME, PASSWORD)\n",
    "    client.connect(ADDRESS, PORT)\n",
    "    return client\n",
    "\n",
    "if __name__ == '__main__':\n",
    "    startCountingAt = 0\n",
    "    mqttClient = initialize()\n",
    "    broker = Heartbeat(mqttClient, startCountingAt)\n",
    "    broker.start()\n",
    "    print('alive 1')\n",
    "    broker.join()\n",
    "    print('2')\n",
    "    mqttClient._sock_close()\n",
    "    "
   ]
  },
  {
   "cell_type": "markdown",
   "id": "developmental-suicide",
   "metadata": {},
   "source": [
    "# Im Anschluss\n",
    "\n",
    "#### Ich wuerde empfehlen dann im Anschluss einen Subscriber in den Admin-Microservice herein zu packen, womit man dann den Broker monitoren kann -> dann haben wir alles zentral, auch wenn die properties dann 3 Mal hinterlegt sind"
   ]
  },
  {
   "cell_type": "code",
   "execution_count": null,
   "id": "express-shoot",
   "metadata": {},
   "outputs": [],
   "source": [
    "# https://www.youtube.com/watch?v=72u6gIkeqUc\n",
    "\n",
    "# net start mosquitto\n",
    "# net stop mosquitto\n",
    "\n",
    "# Nach Abschluss des Projektes die Firewall-Settings zuruecksetzen"
   ]
  }
 ],
 "metadata": {
  "kernelspec": {
   "display_name": "Python 3",
   "language": "python",
   "name": "python3"
  },
  "language_info": {
   "codemirror_mode": {
    "name": "ipython",
    "version": 3
   },
   "file_extension": ".py",
   "mimetype": "text/x-python",
   "name": "python",
   "nbconvert_exporter": "python",
   "pygments_lexer": "ipython3",
   "version": "3.8.7"
  }
 },
 "nbformat": 4,
 "nbformat_minor": 5
}
